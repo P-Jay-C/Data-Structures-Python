{
 "cells": [
  {
   "cell_type": "markdown",
   "metadata": {},
   "source": [
    "Linked List is a linear data structure. They are not stored in contiguous memory location like arrays so the elements are linked using pointers\n",
    "\n",
    "Advantages of Linked List over arrays.\n",
    "1. Dynamic size\n",
    "2. Easy insertion and deletion\n",
    "\n",
    "Disadvantages\n",
    "1. Random access is not allowed \n",
    "2. Extra memory space for a pointer is required for each element in the list.\n",
    "3. Not cache friendly"
   ]
  },
  {
   "cell_type": "markdown",
   "metadata": {},
   "source": [
    "Linked List Representation\n",
    "A linked list is represent by a pointer to the first node of the linked list.\n",
    "The fist node refered to as head. List with the head value as null is considered to be empty.\n",
    "\n",
    "Each node contains a data and pointer to the next node in the list."
   ]
  },
  {
   "cell_type": "code",
   "execution_count": 5,
   "metadata": {},
   "outputs": [],
   "source": [
    "# Defining the node class\n",
    "\n",
    "class Node:\n",
    "    def __init__(self, data): # takes data as it parameter\n",
    "        self.data = data        \n",
    "        self.next = None      # link is initialled to null"
   ]
  },
  {
   "cell_type": "code",
   "execution_count": 4,
   "metadata": {},
   "outputs": [],
   "source": [
    "#Class for creating the list\n",
    "class LinkedList:\n",
    "    def __init__(self):\n",
    "        self.head = Node"
   ]
  },
  {
   "cell_type": "markdown",
   "metadata": {},
   "source": [
    "Creating a Simple linked list"
   ]
  },
  {
   "cell_type": "code",
   "execution_count": null,
   "metadata": {},
   "outputs": [],
   "source": [
    "# Creating the Linked List\n",
    "# Begining of code\n",
    "\n",
    "List1 = LinkedList()\n",
    "\n",
    "# Inserting elements into the list\n",
    "List1.head = Node(5)\n",
    "second = Node(10)\n",
    "third = Node(15)\n",
    "\n",
    "# Linking the Elements \n",
    "List1.head.next = second\n",
    "second.next = third"
   ]
  },
  {
   "cell_type": "markdown",
   "metadata": {},
   "source": [
    "Complete program for creating, inserting and printing elements in the linked list"
   ]
  },
  {
   "cell_type": "code",
   "execution_count": 1,
   "metadata": {},
   "outputs": [
    {
     "name": "stdout",
     "output_type": "stream",
     "text": [
      "5 10 20 "
     ]
    }
   ],
   "source": [
    "class Node:\n",
    "    def __init__(self,data):\n",
    "        self.data = data #Assigning data\n",
    "        self.next = None #Initializing next as null\n",
    "\n",
    "\n",
    "class LinkedList:\n",
    "    def __init__(self):\n",
    "        self.head = None # Creating a empty list\n",
    "\n",
    "    def printList(self):\n",
    "\n",
    "        temp = self.head\n",
    "\n",
    "        if temp is None:\n",
    "            print(\"The Linked List is empty\")\n",
    "        \n",
    "        while temp is not None:\n",
    "            print(temp.data, end = \" \")\n",
    "            temp = temp.next\n",
    "\n",
    "# Begining of code\n",
    "\n",
    "List1 = LinkedList()\n",
    "\n",
    "# Inserting elements into the list\n",
    "List1.head = Node(5)\n",
    "second = Node(10)\n",
    "third = Node(20)\n",
    "\n",
    "# Linking the Elements \n",
    "List1.head.next = second\n",
    "second.next = third\n",
    "\n",
    "List1.printList()"
   ]
  },
  {
   "cell_type": "markdown",
   "metadata": {},
   "source": [
    "Inserting Node at begining, a certain position and end of linked list"
   ]
  },
  {
   "cell_type": "code",
   "execution_count": 10,
   "metadata": {},
   "outputs": [
    {
     "name": "stdout",
     "output_type": "stream",
     "text": [
      "There are  6  nodes in the list.\n",
      "Created Linked list is: \n",
      "200 5 300 10 20 30 "
     ]
    }
   ],
   "source": [
    "class Node:\n",
    "    def __init__(self,data):\n",
    "        self.data = data #Assigning data\n",
    "        self.next = None #Initializing next as null\n",
    "\n",
    "\n",
    "class LinkedList:\n",
    "    def __init__(self):\n",
    "        self.head = None # Creating a empty list\n",
    "\n",
    "    def add_begining(self,data):\n",
    "        new_node = Node(data)\n",
    "\n",
    "        if self.head is None:\n",
    "            self.head = new_node\n",
    "            return\n",
    "        \n",
    "        new_node.next = self.head\n",
    "        self.head = new_node\n",
    "\n",
    "    def add_end(self,data):\n",
    "\n",
    "        new_node = Node(data)\n",
    "\n",
    "        if self.head is None:\n",
    "            self.head = new_node\n",
    "            return\n",
    "\n",
    "        temp = self.head\n",
    "\n",
    "        while temp.next is not None:\n",
    "            temp = temp.next\n",
    "\n",
    "        temp.next = new_node\n",
    "\n",
    "    def add_pos(self,data,pos):\n",
    "        new_node = Node(data)\n",
    "\n",
    "        if self.head is None:\n",
    "            self.head = new_node\n",
    "            return\n",
    "        \n",
    "        if pos == 1:\n",
    "            new_node.next = self.head\n",
    "            self.head = new_node\n",
    "\n",
    "            return\n",
    "\n",
    "        pos -=1\n",
    "        count = 1\n",
    "        temp = self.head\n",
    "        while count != pos:\n",
    "            temp = temp.next\n",
    "            count += 1\n",
    "\n",
    "        new_node.next = temp.next\n",
    "        temp.next = new_node    \n",
    "\n",
    "\n",
    "    def countList(self):\n",
    "        if self.head is None:\n",
    "            count = 0\n",
    "            print(\"There are \", count, \" nodes in the list.\")\n",
    "            return\n",
    "\n",
    "        count = 1\n",
    "        temp = self.head\n",
    "        while (temp.next):\n",
    "            count += 1\n",
    "            temp = temp.next\n",
    "\n",
    "        print(\"There are \", count, \" nodes in the list.\")\n",
    "    \n",
    "\n",
    "    def printList(self):\n",
    "\n",
    "        temp = self.head\n",
    "\n",
    "        if temp is None:\n",
    "            print(\"The Linked List is empty\")\n",
    "        \n",
    "        while temp is not None:\n",
    "            print(temp.data, end = \" \")\n",
    "            temp = temp.next\n",
    "\n",
    "# Begining of code\n",
    "\n",
    "List1 = LinkedList()\n",
    "\n",
    "# Inserting elements into the list\n",
    "List1.head = Node(5)\n",
    "second = Node(10)\n",
    "third = Node(20)\n",
    "\n",
    "# Linking the Elements \n",
    "List1.head.next = second\n",
    "second.next = third\n",
    "\n",
    "List1.add_end(30)\n",
    "List1.add_begining(200)\n",
    "List1.add_pos(300,3)\n",
    "List1.countList()\n",
    "\n",
    "print(\"Created Linked list is: \")\n",
    "List1.printList()"
   ]
  },
  {
   "cell_type": "code",
   "execution_count": null,
   "metadata": {},
   "outputs": [],
   "source": []
  }
 ],
 "metadata": {
  "interpreter": {
   "hash": "4859fee26058e8ca17febd5879282eac5807242a069f75e15c8ca31154d0b53e"
  },
  "kernelspec": {
   "display_name": "Python 3 (ipykernel)",
   "language": "python",
   "name": "python3"
  },
  "language_info": {
   "codemirror_mode": {
    "name": "ipython",
    "version": 3
   },
   "file_extension": ".py",
   "mimetype": "text/x-python",
   "name": "python",
   "nbconvert_exporter": "python",
   "pygments_lexer": "ipython3",
   "version": "3.8.6"
  }
 },
 "nbformat": 4,
 "nbformat_minor": 2
}
